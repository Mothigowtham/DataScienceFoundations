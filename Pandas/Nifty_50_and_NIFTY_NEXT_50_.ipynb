{
  "nbformat": 4,
  "nbformat_minor": 0,
  "metadata": {
    "colab": {
      "name": "Nifty_50 and NIFTY_NEXT_50 .ipynb",
      "provenance": [],
      "collapsed_sections": []
    },
    "kernelspec": {
      "name": "python3",
      "display_name": "Python 3"
    },
    "language_info": {
      "name": "python"
    }
  },
  "cells": [
    {
      "cell_type": "code",
      "metadata": {
        "id": "gQjXbcZGwdeI"
      },
      "source": [
        "import numpy as np\n",
        "import pandas as pd"
      ],
      "execution_count": 390,
      "outputs": []
    },
    {
      "cell_type": "markdown",
      "metadata": {
        "id": "q_I-5WwPwCTw"
      },
      "source": [
        "Tasks on the NIFTY datasets:\n",
        "\n",
        "1. In 2020, in how many days was the NIFTY50 volatile (high > 105% of low)\n",
        "\n",
        "2. In 2020, in how many days was the NIFTYNEXT50 volatile (high > 105% of low)\n",
        "\n",
        "3. In 2020, how many days belonged to the four classes NIFTY50 volatile / non-volatile and NIFTYNext50 volatile / non-volatile\n",
        "\n",
        "4. Compute the mean, median, std, var of closing values for each weekday in NIFTY50 for 2020\n",
        "\n",
        "5. Compute the mean, median, std, var of closing values for the first three month's individually in NIFTY50 for 2020\n",
        "\n",
        "6. On the days in which NIFTY50 closed higher than the open, what was the mean of (close - open) for NIFTYNext50\n",
        "\n",
        "7. In 2020, how many days had the day's high lower than the previous day's low in NIFTY50\n",
        "\n",
        "8. In 2020, on how many days did the day's close exceed the 30 day moving average in NIFTY50 (exclude first month)"
      ]
    },
    {
      "cell_type": "markdown",
      "metadata": {
        "id": "Q5y_iKGNxKEE"
      },
      "source": [
        "# **Assess the dataset**\n"
      ]
    },
    {
      "cell_type": "code",
      "metadata": {
        "id": "W9M8ZqQXwimq"
      },
      "source": [
        "nifty_50 = pd.read_csv('NIFTY 50_2020.csv', index_col = 0, usecols= [0, 1, 2, 3, 4])\n",
        "nifty_next_50 = pd.read_csv('NIFTYNEXT 50_2020.csv', index_col = 0, usecols= [0, 1, 2, 3, 4])"
      ],
      "execution_count": 281,
      "outputs": []
    },
    {
      "cell_type": "code",
      "metadata": {
        "colab": {
          "base_uri": "https://localhost:8080/",
          "height": 446
        },
        "id": "U1IO3wPVwAZk",
        "outputId": "7eca7811-67f2-4341-eef7-75f0efeba18a"
      },
      "source": [
        "nifty_50"
      ],
      "execution_count": 282,
      "outputs": [
        {
          "output_type": "execute_result",
          "data": {
            "text/html": [
              "<div>\n",
              "<style scoped>\n",
              "    .dataframe tbody tr th:only-of-type {\n",
              "        vertical-align: middle;\n",
              "    }\n",
              "\n",
              "    .dataframe tbody tr th {\n",
              "        vertical-align: top;\n",
              "    }\n",
              "\n",
              "    .dataframe thead th {\n",
              "        text-align: right;\n",
              "    }\n",
              "</style>\n",
              "<table border=\"1\" class=\"dataframe\">\n",
              "  <thead>\n",
              "    <tr style=\"text-align: right;\">\n",
              "      <th></th>\n",
              "      <th>Open</th>\n",
              "      <th>High</th>\n",
              "      <th>Low</th>\n",
              "      <th>Close</th>\n",
              "    </tr>\n",
              "    <tr>\n",
              "      <th>Date</th>\n",
              "      <th></th>\n",
              "      <th></th>\n",
              "      <th></th>\n",
              "      <th></th>\n",
              "    </tr>\n",
              "  </thead>\n",
              "  <tbody>\n",
              "    <tr>\n",
              "      <th>01-Jan-2020</th>\n",
              "      <td>12202.15</td>\n",
              "      <td>12222.20</td>\n",
              "      <td>12165.30</td>\n",
              "      <td>12182.50</td>\n",
              "    </tr>\n",
              "    <tr>\n",
              "      <th>02-Jan-2020</th>\n",
              "      <td>12198.55</td>\n",
              "      <td>12289.90</td>\n",
              "      <td>12195.25</td>\n",
              "      <td>12282.20</td>\n",
              "    </tr>\n",
              "    <tr>\n",
              "      <th>03-Jan-2020</th>\n",
              "      <td>12261.10</td>\n",
              "      <td>12265.60</td>\n",
              "      <td>12191.35</td>\n",
              "      <td>12226.65</td>\n",
              "    </tr>\n",
              "    <tr>\n",
              "      <th>06-Jan-2020</th>\n",
              "      <td>12170.60</td>\n",
              "      <td>12179.10</td>\n",
              "      <td>11974.20</td>\n",
              "      <td>11993.05</td>\n",
              "    </tr>\n",
              "    <tr>\n",
              "      <th>07-Jan-2020</th>\n",
              "      <td>12079.10</td>\n",
              "      <td>12152.15</td>\n",
              "      <td>12005.35</td>\n",
              "      <td>12052.95</td>\n",
              "    </tr>\n",
              "    <tr>\n",
              "      <th>...</th>\n",
              "      <td>...</td>\n",
              "      <td>...</td>\n",
              "      <td>...</td>\n",
              "      <td>...</td>\n",
              "    </tr>\n",
              "    <tr>\n",
              "      <th>23-Dec-2020</th>\n",
              "      <td>13473.50</td>\n",
              "      <td>13619.45</td>\n",
              "      <td>13432.20</td>\n",
              "      <td>13601.10</td>\n",
              "    </tr>\n",
              "    <tr>\n",
              "      <th>24-Dec-2020</th>\n",
              "      <td>13672.15</td>\n",
              "      <td>13771.75</td>\n",
              "      <td>13626.90</td>\n",
              "      <td>13749.25</td>\n",
              "    </tr>\n",
              "    <tr>\n",
              "      <th>28-Dec-2020</th>\n",
              "      <td>13815.15</td>\n",
              "      <td>13885.30</td>\n",
              "      <td>13811.55</td>\n",
              "      <td>13873.20</td>\n",
              "    </tr>\n",
              "    <tr>\n",
              "      <th>29-Dec-2020</th>\n",
              "      <td>13910.35</td>\n",
              "      <td>13967.60</td>\n",
              "      <td>13859.90</td>\n",
              "      <td>13932.60</td>\n",
              "    </tr>\n",
              "    <tr>\n",
              "      <th>30-Dec-2020</th>\n",
              "      <td>13980.90</td>\n",
              "      <td>13997.00</td>\n",
              "      <td>13864.95</td>\n",
              "      <td>13981.95</td>\n",
              "    </tr>\n",
              "  </tbody>\n",
              "</table>\n",
              "<p>251 rows × 4 columns</p>\n",
              "</div>"
            ],
            "text/plain": [
              "                 Open      High       Low     Close\n",
              "Date                                               \n",
              "01-Jan-2020  12202.15  12222.20  12165.30  12182.50\n",
              "02-Jan-2020  12198.55  12289.90  12195.25  12282.20\n",
              "03-Jan-2020  12261.10  12265.60  12191.35  12226.65\n",
              "06-Jan-2020  12170.60  12179.10  11974.20  11993.05\n",
              "07-Jan-2020  12079.10  12152.15  12005.35  12052.95\n",
              "...               ...       ...       ...       ...\n",
              "23-Dec-2020  13473.50  13619.45  13432.20  13601.10\n",
              "24-Dec-2020  13672.15  13771.75  13626.90  13749.25\n",
              "28-Dec-2020  13815.15  13885.30  13811.55  13873.20\n",
              "29-Dec-2020  13910.35  13967.60  13859.90  13932.60\n",
              "30-Dec-2020  13980.90  13997.00  13864.95  13981.95\n",
              "\n",
              "[251 rows x 4 columns]"
            ]
          },
          "metadata": {
            "tags": []
          },
          "execution_count": 282
        }
      ]
    },
    {
      "cell_type": "code",
      "metadata": {
        "colab": {
          "base_uri": "https://localhost:8080/",
          "height": 294
        },
        "id": "_JVNMRF3b92P",
        "outputId": "8fd2eeb1-fa49-4744-8d6d-722a1fa583d1"
      },
      "source": [
        "nifty_50.describe()"
      ],
      "execution_count": 283,
      "outputs": [
        {
          "output_type": "execute_result",
          "data": {
            "text/html": [
              "<div>\n",
              "<style scoped>\n",
              "    .dataframe tbody tr th:only-of-type {\n",
              "        vertical-align: middle;\n",
              "    }\n",
              "\n",
              "    .dataframe tbody tr th {\n",
              "        vertical-align: top;\n",
              "    }\n",
              "\n",
              "    .dataframe thead th {\n",
              "        text-align: right;\n",
              "    }\n",
              "</style>\n",
              "<table border=\"1\" class=\"dataframe\">\n",
              "  <thead>\n",
              "    <tr style=\"text-align: right;\">\n",
              "      <th></th>\n",
              "      <th>Open</th>\n",
              "      <th>High</th>\n",
              "      <th>Low</th>\n",
              "      <th>Close</th>\n",
              "    </tr>\n",
              "  </thead>\n",
              "  <tbody>\n",
              "    <tr>\n",
              "      <th>count</th>\n",
              "      <td>251.000000</td>\n",
              "      <td>251.000000</td>\n",
              "      <td>251.000000</td>\n",
              "      <td>251.000000</td>\n",
              "    </tr>\n",
              "    <tr>\n",
              "      <th>mean</th>\n",
              "      <td>11164.474502</td>\n",
              "      <td>11243.541434</td>\n",
              "      <td>11054.680876</td>\n",
              "      <td>11150.238645</td>\n",
              "    </tr>\n",
              "    <tr>\n",
              "      <th>std</th>\n",
              "      <td>1400.878285</td>\n",
              "      <td>1361.138014</td>\n",
              "      <td>1430.740072</td>\n",
              "      <td>1402.612608</td>\n",
              "    </tr>\n",
              "    <tr>\n",
              "      <th>min</th>\n",
              "      <td>7735.150000</td>\n",
              "      <td>8036.950000</td>\n",
              "      <td>7511.100000</td>\n",
              "      <td>7610.250000</td>\n",
              "    </tr>\n",
              "    <tr>\n",
              "      <th>25%</th>\n",
              "      <td>10113.650000</td>\n",
              "      <td>10225.100000</td>\n",
              "      <td>10038.800000</td>\n",
              "      <td>10129.150000</td>\n",
              "    </tr>\n",
              "    <tr>\n",
              "      <th>50%</th>\n",
              "      <td>11363.300000</td>\n",
              "      <td>11418.500000</td>\n",
              "      <td>11289.800000</td>\n",
              "      <td>11322.500000</td>\n",
              "    </tr>\n",
              "    <tr>\n",
              "      <th>75%</th>\n",
              "      <td>12116.950000</td>\n",
              "      <td>12153.425000</td>\n",
              "      <td>12032.300000</td>\n",
              "      <td>12085.000000</td>\n",
              "    </tr>\n",
              "    <tr>\n",
              "      <th>max</th>\n",
              "      <td>13980.900000</td>\n",
              "      <td>13997.000000</td>\n",
              "      <td>13864.950000</td>\n",
              "      <td>13981.950000</td>\n",
              "    </tr>\n",
              "  </tbody>\n",
              "</table>\n",
              "</div>"
            ],
            "text/plain": [
              "               Open          High           Low         Close\n",
              "count    251.000000    251.000000    251.000000    251.000000\n",
              "mean   11164.474502  11243.541434  11054.680876  11150.238645\n",
              "std     1400.878285   1361.138014   1430.740072   1402.612608\n",
              "min     7735.150000   8036.950000   7511.100000   7610.250000\n",
              "25%    10113.650000  10225.100000  10038.800000  10129.150000\n",
              "50%    11363.300000  11418.500000  11289.800000  11322.500000\n",
              "75%    12116.950000  12153.425000  12032.300000  12085.000000\n",
              "max    13980.900000  13997.000000  13864.950000  13981.950000"
            ]
          },
          "metadata": {
            "tags": []
          },
          "execution_count": 283
        }
      ]
    },
    {
      "cell_type": "code",
      "metadata": {
        "colab": {
          "base_uri": "https://localhost:8080/"
        },
        "id": "PpNbHFeQcC2V",
        "outputId": "82755882-2568-4afb-faff-a6fb926361ec"
      },
      "source": [
        "nifty_50.info()"
      ],
      "execution_count": 284,
      "outputs": [
        {
          "output_type": "stream",
          "text": [
            "<class 'pandas.core.frame.DataFrame'>\n",
            "Index: 251 entries, 01-Jan-2020 to 30-Dec-2020\n",
            "Data columns (total 4 columns):\n",
            " #   Column  Non-Null Count  Dtype  \n",
            "---  ------  --------------  -----  \n",
            " 0   Open    251 non-null    float64\n",
            " 1   High    251 non-null    float64\n",
            " 2   Low     251 non-null    float64\n",
            " 3   Close   251 non-null    float64\n",
            "dtypes: float64(4)\n",
            "memory usage: 9.8+ KB\n"
          ],
          "name": "stdout"
        }
      ]
    },
    {
      "cell_type": "markdown",
      "metadata": {
        "id": "vd4JW3GdcOAC"
      },
      "source": [
        "# **Task 1:**\n",
        "\n",
        "*In 2020, in how many days was the NIFTY50 volatile (high > 105% of low)*"
      ]
    },
    {
      "cell_type": "code",
      "metadata": {
        "id": "HkfdLHavymeY"
      },
      "source": [
        "volatility = nifty_50['High'] > 1.05 * nifty_50['Low'] "
      ],
      "execution_count": 285,
      "outputs": []
    },
    {
      "cell_type": "code",
      "metadata": {
        "colab": {
          "base_uri": "https://localhost:8080/",
          "height": 479
        },
        "id": "L2VzPX5kxxTx",
        "outputId": "f5105803-16a6-4f2e-bc4a-f535f8cf3141"
      },
      "source": [
        "nifty_50[(volatility)] "
      ],
      "execution_count": 286,
      "outputs": [
        {
          "output_type": "execute_result",
          "data": {
            "text/html": [
              "<div>\n",
              "<style scoped>\n",
              "    .dataframe tbody tr th:only-of-type {\n",
              "        vertical-align: middle;\n",
              "    }\n",
              "\n",
              "    .dataframe tbody tr th {\n",
              "        vertical-align: top;\n",
              "    }\n",
              "\n",
              "    .dataframe thead th {\n",
              "        text-align: right;\n",
              "    }\n",
              "</style>\n",
              "<table border=\"1\" class=\"dataframe\">\n",
              "  <thead>\n",
              "    <tr style=\"text-align: right;\">\n",
              "      <th></th>\n",
              "      <th>Open</th>\n",
              "      <th>High</th>\n",
              "      <th>Low</th>\n",
              "      <th>Close</th>\n",
              "    </tr>\n",
              "    <tr>\n",
              "      <th>Date</th>\n",
              "      <th></th>\n",
              "      <th></th>\n",
              "      <th></th>\n",
              "      <th></th>\n",
              "    </tr>\n",
              "  </thead>\n",
              "  <tbody>\n",
              "    <tr>\n",
              "      <th>12-Mar-2020</th>\n",
              "      <td>10039.95</td>\n",
              "      <td>10040.75</td>\n",
              "      <td>9508.00</td>\n",
              "      <td>9590.15</td>\n",
              "    </tr>\n",
              "    <tr>\n",
              "      <th>13-Mar-2020</th>\n",
              "      <td>9107.60</td>\n",
              "      <td>10159.40</td>\n",
              "      <td>8555.15</td>\n",
              "      <td>9955.20</td>\n",
              "    </tr>\n",
              "    <tr>\n",
              "      <th>17-Mar-2020</th>\n",
              "      <td>9285.40</td>\n",
              "      <td>9403.80</td>\n",
              "      <td>8915.60</td>\n",
              "      <td>8967.05</td>\n",
              "    </tr>\n",
              "    <tr>\n",
              "      <th>18-Mar-2020</th>\n",
              "      <td>9088.45</td>\n",
              "      <td>9127.55</td>\n",
              "      <td>8407.05</td>\n",
              "      <td>8468.80</td>\n",
              "    </tr>\n",
              "    <tr>\n",
              "      <th>19-Mar-2020</th>\n",
              "      <td>8063.30</td>\n",
              "      <td>8575.45</td>\n",
              "      <td>7832.55</td>\n",
              "      <td>8263.45</td>\n",
              "    </tr>\n",
              "    <tr>\n",
              "      <th>20-Mar-2020</th>\n",
              "      <td>8284.45</td>\n",
              "      <td>8883.00</td>\n",
              "      <td>8178.20</td>\n",
              "      <td>8745.45</td>\n",
              "    </tr>\n",
              "    <tr>\n",
              "      <th>23-Mar-2020</th>\n",
              "      <td>7945.70</td>\n",
              "      <td>8159.25</td>\n",
              "      <td>7583.60</td>\n",
              "      <td>7610.25</td>\n",
              "    </tr>\n",
              "    <tr>\n",
              "      <th>24-Mar-2020</th>\n",
              "      <td>7848.30</td>\n",
              "      <td>8036.95</td>\n",
              "      <td>7511.10</td>\n",
              "      <td>7801.05</td>\n",
              "    </tr>\n",
              "    <tr>\n",
              "      <th>25-Mar-2020</th>\n",
              "      <td>7735.15</td>\n",
              "      <td>8376.75</td>\n",
              "      <td>7714.75</td>\n",
              "      <td>8317.85</td>\n",
              "    </tr>\n",
              "    <tr>\n",
              "      <th>26-Mar-2020</th>\n",
              "      <td>8451.00</td>\n",
              "      <td>8749.05</td>\n",
              "      <td>8304.90</td>\n",
              "      <td>8641.45</td>\n",
              "    </tr>\n",
              "    <tr>\n",
              "      <th>27-Mar-2020</th>\n",
              "      <td>8949.10</td>\n",
              "      <td>9038.90</td>\n",
              "      <td>8522.90</td>\n",
              "      <td>8660.25</td>\n",
              "    </tr>\n",
              "    <tr>\n",
              "      <th>07-Apr-2020</th>\n",
              "      <td>8446.30</td>\n",
              "      <td>8819.40</td>\n",
              "      <td>8360.95</td>\n",
              "      <td>8792.20</td>\n",
              "    </tr>\n",
              "    <tr>\n",
              "      <th>08-Apr-2020</th>\n",
              "      <td>8688.90</td>\n",
              "      <td>9131.70</td>\n",
              "      <td>8653.90</td>\n",
              "      <td>8748.75</td>\n",
              "    </tr>\n",
              "  </tbody>\n",
              "</table>\n",
              "</div>"
            ],
            "text/plain": [
              "                 Open      High      Low    Close\n",
              "Date                                             \n",
              "12-Mar-2020  10039.95  10040.75  9508.00  9590.15\n",
              "13-Mar-2020   9107.60  10159.40  8555.15  9955.20\n",
              "17-Mar-2020   9285.40   9403.80  8915.60  8967.05\n",
              "18-Mar-2020   9088.45   9127.55  8407.05  8468.80\n",
              "19-Mar-2020   8063.30   8575.45  7832.55  8263.45\n",
              "20-Mar-2020   8284.45   8883.00  8178.20  8745.45\n",
              "23-Mar-2020   7945.70   8159.25  7583.60  7610.25\n",
              "24-Mar-2020   7848.30   8036.95  7511.10  7801.05\n",
              "25-Mar-2020   7735.15   8376.75  7714.75  8317.85\n",
              "26-Mar-2020   8451.00   8749.05  8304.90  8641.45\n",
              "27-Mar-2020   8949.10   9038.90  8522.90  8660.25\n",
              "07-Apr-2020   8446.30   8819.40  8360.95  8792.20\n",
              "08-Apr-2020   8688.90   9131.70  8653.90  8748.75"
            ]
          },
          "metadata": {
            "tags": []
          },
          "execution_count": 286
        }
      ]
    },
    {
      "cell_type": "code",
      "metadata": {
        "id": "PwkZbZfYIcRC"
      },
      "source": [
        "nifty_50['volatility'] = np.where((volatility), 'Volatile', 'Non-Volatile')"
      ],
      "execution_count": 287,
      "outputs": []
    },
    {
      "cell_type": "code",
      "metadata": {
        "colab": {
          "base_uri": "https://localhost:8080/"
        },
        "id": "lKxp-nOmd9TP",
        "outputId": "eb961fbb-a320-4d8d-b7cb-b73ef94a2291"
      },
      "source": [
        "nifty_50[nifty_50.volatility == 'Volatile']['volatility'].count()"
      ],
      "execution_count": 288,
      "outputs": [
        {
          "output_type": "execute_result",
          "data": {
            "text/plain": [
              "13"
            ]
          },
          "metadata": {
            "tags": []
          },
          "execution_count": 288
        }
      ]
    },
    {
      "cell_type": "markdown",
      "metadata": {
        "id": "I7dONu9NkPKf"
      },
      "source": [
        "**In the previous year 2020, NIFTY 50 is *Volatile* in only 13 days**."
      ]
    },
    {
      "cell_type": "markdown",
      "metadata": {
        "id": "R-tyjcPNk8qK"
      },
      "source": [
        "#**Task 2:**\n",
        "*In 2020, in how many days was the NIFTYNEXT50 Volatile*"
      ]
    },
    {
      "cell_type": "code",
      "metadata": {
        "colab": {
          "base_uri": "https://localhost:8080/",
          "height": 446
        },
        "id": "lxxLLqg9mRfe",
        "outputId": "e2243bc3-4da1-4e5a-d968-f7efb17e5f28"
      },
      "source": [
        "nifty_next_50"
      ],
      "execution_count": 417,
      "outputs": [
        {
          "output_type": "execute_result",
          "data": {
            "text/html": [
              "<div>\n",
              "<style scoped>\n",
              "    .dataframe tbody tr th:only-of-type {\n",
              "        vertical-align: middle;\n",
              "    }\n",
              "\n",
              "    .dataframe tbody tr th {\n",
              "        vertical-align: top;\n",
              "    }\n",
              "\n",
              "    .dataframe thead th {\n",
              "        text-align: right;\n",
              "    }\n",
              "</style>\n",
              "<table border=\"1\" class=\"dataframe\">\n",
              "  <thead>\n",
              "    <tr style=\"text-align: right;\">\n",
              "      <th></th>\n",
              "      <th>Open</th>\n",
              "      <th>High</th>\n",
              "      <th>Low</th>\n",
              "      <th>Close</th>\n",
              "      <th>volatility</th>\n",
              "    </tr>\n",
              "    <tr>\n",
              "      <th>Date</th>\n",
              "      <th></th>\n",
              "      <th></th>\n",
              "      <th></th>\n",
              "      <th></th>\n",
              "      <th></th>\n",
              "    </tr>\n",
              "  </thead>\n",
              "  <tbody>\n",
              "    <tr>\n",
              "      <th>01-Jan-2020</th>\n",
              "      <td>28353.45</td>\n",
              "      <td>28436.80</td>\n",
              "      <td>28272.30</td>\n",
              "      <td>28293.35</td>\n",
              "      <td>Non-Volatile</td>\n",
              "    </tr>\n",
              "    <tr>\n",
              "      <th>02-Jan-2020</th>\n",
              "      <td>28325.45</td>\n",
              "      <td>28552.80</td>\n",
              "      <td>28314.55</td>\n",
              "      <td>28535.40</td>\n",
              "      <td>Non-Volatile</td>\n",
              "    </tr>\n",
              "    <tr>\n",
              "      <th>03-Jan-2020</th>\n",
              "      <td>28493.60</td>\n",
              "      <td>28585.90</td>\n",
              "      <td>28385.60</td>\n",
              "      <td>28478.95</td>\n",
              "      <td>Non-Volatile</td>\n",
              "    </tr>\n",
              "    <tr>\n",
              "      <th>06-Jan-2020</th>\n",
              "      <td>28316.45</td>\n",
              "      <td>28338.35</td>\n",
              "      <td>27831.35</td>\n",
              "      <td>27894.90</td>\n",
              "      <td>Non-Volatile</td>\n",
              "    </tr>\n",
              "    <tr>\n",
              "      <th>07-Jan-2020</th>\n",
              "      <td>28049.55</td>\n",
              "      <td>28347.30</td>\n",
              "      <td>27971.75</td>\n",
              "      <td>28101.20</td>\n",
              "      <td>Non-Volatile</td>\n",
              "    </tr>\n",
              "    <tr>\n",
              "      <th>...</th>\n",
              "      <td>...</td>\n",
              "      <td>...</td>\n",
              "      <td>...</td>\n",
              "      <td>...</td>\n",
              "      <td>...</td>\n",
              "    </tr>\n",
              "    <tr>\n",
              "      <th>23-Dec-2020</th>\n",
              "      <td>31489.55</td>\n",
              "      <td>31994.95</td>\n",
              "      <td>31342.45</td>\n",
              "      <td>31949.80</td>\n",
              "      <td>Non-Volatile</td>\n",
              "    </tr>\n",
              "    <tr>\n",
              "      <th>24-Dec-2020</th>\n",
              "      <td>32220.50</td>\n",
              "      <td>32322.55</td>\n",
              "      <td>31931.75</td>\n",
              "      <td>32068.55</td>\n",
              "      <td>Non-Volatile</td>\n",
              "    </tr>\n",
              "    <tr>\n",
              "      <th>28-Dec-2020</th>\n",
              "      <td>32261.90</td>\n",
              "      <td>32408.50</td>\n",
              "      <td>32230.75</td>\n",
              "      <td>32351.05</td>\n",
              "      <td>Non-Volatile</td>\n",
              "    </tr>\n",
              "    <tr>\n",
              "      <th>29-Dec-2020</th>\n",
              "      <td>32507.00</td>\n",
              "      <td>32541.90</td>\n",
              "      <td>32153.85</td>\n",
              "      <td>32331.50</td>\n",
              "      <td>Non-Volatile</td>\n",
              "    </tr>\n",
              "    <tr>\n",
              "      <th>30-Dec-2020</th>\n",
              "      <td>32446.10</td>\n",
              "      <td>32508.55</td>\n",
              "      <td>32166.50</td>\n",
              "      <td>32464.40</td>\n",
              "      <td>Non-Volatile</td>\n",
              "    </tr>\n",
              "  </tbody>\n",
              "</table>\n",
              "<p>251 rows × 5 columns</p>\n",
              "</div>"
            ],
            "text/plain": [
              "                 Open      High       Low     Close    volatility\n",
              "Date                                                             \n",
              "01-Jan-2020  28353.45  28436.80  28272.30  28293.35  Non-Volatile\n",
              "02-Jan-2020  28325.45  28552.80  28314.55  28535.40  Non-Volatile\n",
              "03-Jan-2020  28493.60  28585.90  28385.60  28478.95  Non-Volatile\n",
              "06-Jan-2020  28316.45  28338.35  27831.35  27894.90  Non-Volatile\n",
              "07-Jan-2020  28049.55  28347.30  27971.75  28101.20  Non-Volatile\n",
              "...               ...       ...       ...       ...           ...\n",
              "23-Dec-2020  31489.55  31994.95  31342.45  31949.80  Non-Volatile\n",
              "24-Dec-2020  32220.50  32322.55  31931.75  32068.55  Non-Volatile\n",
              "28-Dec-2020  32261.90  32408.50  32230.75  32351.05  Non-Volatile\n",
              "29-Dec-2020  32507.00  32541.90  32153.85  32331.50  Non-Volatile\n",
              "30-Dec-2020  32446.10  32508.55  32166.50  32464.40  Non-Volatile\n",
              "\n",
              "[251 rows x 5 columns]"
            ]
          },
          "metadata": {
            "tags": []
          },
          "execution_count": 417
        }
      ]
    },
    {
      "cell_type": "code",
      "metadata": {
        "id": "Xl0Wu6_dncvt"
      },
      "source": [
        "nifty_next_50['volatility'] = np.where((nifty_next_50['High'] > 1.05*nifty_next_50['Low']), 'Volatile', 'Non-Volatile')"
      ],
      "execution_count": 419,
      "outputs": []
    },
    {
      "cell_type": "code",
      "metadata": {
        "colab": {
          "base_uri": "https://localhost:8080/"
        },
        "id": "Ru6_ZuP9n2VM",
        "outputId": "70365d42-29b8-4e17-9a9c-b332fe2e2661"
      },
      "source": [
        "nifty_next_50[nifty_next_50.volatility == 'Volatile']['volatility'].count()"
      ],
      "execution_count": 420,
      "outputs": [
        {
          "output_type": "execute_result",
          "data": {
            "text/plain": [
              "15"
            ]
          },
          "metadata": {
            "tags": []
          },
          "execution_count": 420
        }
      ]
    },
    {
      "cell_type": "markdown",
      "metadata": {
        "id": "XKNudBGvqMnN"
      },
      "source": [
        "**In NIFTY NEXT 50 for the year 2020, only 15 days are volatile.**"
      ]
    },
    {
      "cell_type": "markdown",
      "metadata": {
        "id": "mKVhnBZHqieq"
      },
      "source": [
        "# **Task 3**\n",
        "*In 2020, how many days belonged to the four classes NIFTY50 volatile / non-volatile and NIFTYNext50 volatile / non-volatile*\n"
      ]
    },
    {
      "cell_type": "code",
      "metadata": {
        "id": "k2SKjluUol-Y"
      },
      "source": [
        "nifty = pd.concat([nifty_50, nifty_next_50], axis = 1, keys = ['nifty_50', 'nifty_next_50'])"
      ],
      "execution_count": 359,
      "outputs": []
    },
    {
      "cell_type": "code",
      "metadata": {
        "colab": {
          "base_uri": "https://localhost:8080/",
          "height": 477
        },
        "id": "DwXi3TS1slaE",
        "outputId": "b64932fb-476b-4d2f-91ba-01f8c3eb726a"
      },
      "source": [
        "nifty"
      ],
      "execution_count": 360,
      "outputs": [
        {
          "output_type": "execute_result",
          "data": {
            "text/html": [
              "<div>\n",
              "<style scoped>\n",
              "    .dataframe tbody tr th:only-of-type {\n",
              "        vertical-align: middle;\n",
              "    }\n",
              "\n",
              "    .dataframe tbody tr th {\n",
              "        vertical-align: top;\n",
              "    }\n",
              "\n",
              "    .dataframe thead tr th {\n",
              "        text-align: left;\n",
              "    }\n",
              "\n",
              "    .dataframe thead tr:last-of-type th {\n",
              "        text-align: right;\n",
              "    }\n",
              "</style>\n",
              "<table border=\"1\" class=\"dataframe\">\n",
              "  <thead>\n",
              "    <tr>\n",
              "      <th></th>\n",
              "      <th colspan=\"5\" halign=\"left\">nifty_50</th>\n",
              "      <th colspan=\"5\" halign=\"left\">nifty_next_50</th>\n",
              "    </tr>\n",
              "    <tr>\n",
              "      <th></th>\n",
              "      <th>Open</th>\n",
              "      <th>High</th>\n",
              "      <th>Low</th>\n",
              "      <th>Close</th>\n",
              "      <th>volatility</th>\n",
              "      <th>Open</th>\n",
              "      <th>High</th>\n",
              "      <th>Low</th>\n",
              "      <th>Close</th>\n",
              "      <th>volatility</th>\n",
              "    </tr>\n",
              "    <tr>\n",
              "      <th>Date</th>\n",
              "      <th></th>\n",
              "      <th></th>\n",
              "      <th></th>\n",
              "      <th></th>\n",
              "      <th></th>\n",
              "      <th></th>\n",
              "      <th></th>\n",
              "      <th></th>\n",
              "      <th></th>\n",
              "      <th></th>\n",
              "    </tr>\n",
              "  </thead>\n",
              "  <tbody>\n",
              "    <tr>\n",
              "      <th>2020-01-01</th>\n",
              "      <td>12202.15</td>\n",
              "      <td>12222.20</td>\n",
              "      <td>12165.30</td>\n",
              "      <td>12182.50</td>\n",
              "      <td>Non-Volatile</td>\n",
              "      <td>28353.45</td>\n",
              "      <td>28436.80</td>\n",
              "      <td>28272.30</td>\n",
              "      <td>28293.35</td>\n",
              "      <td>Non-Volatile</td>\n",
              "    </tr>\n",
              "    <tr>\n",
              "      <th>2020-01-02</th>\n",
              "      <td>12198.55</td>\n",
              "      <td>12289.90</td>\n",
              "      <td>12195.25</td>\n",
              "      <td>12282.20</td>\n",
              "      <td>Non-Volatile</td>\n",
              "      <td>28325.45</td>\n",
              "      <td>28552.80</td>\n",
              "      <td>28314.55</td>\n",
              "      <td>28535.40</td>\n",
              "      <td>Non-Volatile</td>\n",
              "    </tr>\n",
              "    <tr>\n",
              "      <th>2020-01-03</th>\n",
              "      <td>12261.10</td>\n",
              "      <td>12265.60</td>\n",
              "      <td>12191.35</td>\n",
              "      <td>12226.65</td>\n",
              "      <td>Non-Volatile</td>\n",
              "      <td>28493.60</td>\n",
              "      <td>28585.90</td>\n",
              "      <td>28385.60</td>\n",
              "      <td>28478.95</td>\n",
              "      <td>Non-Volatile</td>\n",
              "    </tr>\n",
              "    <tr>\n",
              "      <th>2020-01-06</th>\n",
              "      <td>12170.60</td>\n",
              "      <td>12179.10</td>\n",
              "      <td>11974.20</td>\n",
              "      <td>11993.05</td>\n",
              "      <td>Non-Volatile</td>\n",
              "      <td>28316.45</td>\n",
              "      <td>28338.35</td>\n",
              "      <td>27831.35</td>\n",
              "      <td>27894.90</td>\n",
              "      <td>Non-Volatile</td>\n",
              "    </tr>\n",
              "    <tr>\n",
              "      <th>2020-01-07</th>\n",
              "      <td>12079.10</td>\n",
              "      <td>12152.15</td>\n",
              "      <td>12005.35</td>\n",
              "      <td>12052.95</td>\n",
              "      <td>Non-Volatile</td>\n",
              "      <td>28049.55</td>\n",
              "      <td>28347.30</td>\n",
              "      <td>27971.75</td>\n",
              "      <td>28101.20</td>\n",
              "      <td>Non-Volatile</td>\n",
              "    </tr>\n",
              "    <tr>\n",
              "      <th>...</th>\n",
              "      <td>...</td>\n",
              "      <td>...</td>\n",
              "      <td>...</td>\n",
              "      <td>...</td>\n",
              "      <td>...</td>\n",
              "      <td>...</td>\n",
              "      <td>...</td>\n",
              "      <td>...</td>\n",
              "      <td>...</td>\n",
              "      <td>...</td>\n",
              "    </tr>\n",
              "    <tr>\n",
              "      <th>2020-12-23</th>\n",
              "      <td>13473.50</td>\n",
              "      <td>13619.45</td>\n",
              "      <td>13432.20</td>\n",
              "      <td>13601.10</td>\n",
              "      <td>Non-Volatile</td>\n",
              "      <td>31489.55</td>\n",
              "      <td>31994.95</td>\n",
              "      <td>31342.45</td>\n",
              "      <td>31949.80</td>\n",
              "      <td>Non-Volatile</td>\n",
              "    </tr>\n",
              "    <tr>\n",
              "      <th>2020-12-24</th>\n",
              "      <td>13672.15</td>\n",
              "      <td>13771.75</td>\n",
              "      <td>13626.90</td>\n",
              "      <td>13749.25</td>\n",
              "      <td>Non-Volatile</td>\n",
              "      <td>32220.50</td>\n",
              "      <td>32322.55</td>\n",
              "      <td>31931.75</td>\n",
              "      <td>32068.55</td>\n",
              "      <td>Non-Volatile</td>\n",
              "    </tr>\n",
              "    <tr>\n",
              "      <th>2020-12-28</th>\n",
              "      <td>13815.15</td>\n",
              "      <td>13885.30</td>\n",
              "      <td>13811.55</td>\n",
              "      <td>13873.20</td>\n",
              "      <td>Non-Volatile</td>\n",
              "      <td>32261.90</td>\n",
              "      <td>32408.50</td>\n",
              "      <td>32230.75</td>\n",
              "      <td>32351.05</td>\n",
              "      <td>Non-Volatile</td>\n",
              "    </tr>\n",
              "    <tr>\n",
              "      <th>2020-12-29</th>\n",
              "      <td>13910.35</td>\n",
              "      <td>13967.60</td>\n",
              "      <td>13859.90</td>\n",
              "      <td>13932.60</td>\n",
              "      <td>Non-Volatile</td>\n",
              "      <td>32507.00</td>\n",
              "      <td>32541.90</td>\n",
              "      <td>32153.85</td>\n",
              "      <td>32331.50</td>\n",
              "      <td>Non-Volatile</td>\n",
              "    </tr>\n",
              "    <tr>\n",
              "      <th>2020-12-30</th>\n",
              "      <td>13980.90</td>\n",
              "      <td>13997.00</td>\n",
              "      <td>13864.95</td>\n",
              "      <td>13981.95</td>\n",
              "      <td>Non-Volatile</td>\n",
              "      <td>32446.10</td>\n",
              "      <td>32508.55</td>\n",
              "      <td>32166.50</td>\n",
              "      <td>32464.40</td>\n",
              "      <td>Non-Volatile</td>\n",
              "    </tr>\n",
              "  </tbody>\n",
              "</table>\n",
              "<p>251 rows × 10 columns</p>\n",
              "</div>"
            ],
            "text/plain": [
              "            nifty_50                      ... nifty_next_50                        \n",
              "                Open      High       Low  ...           Low     Close    volatility\n",
              "Date                                      ...                                      \n",
              "2020-01-01  12202.15  12222.20  12165.30  ...      28272.30  28293.35  Non-Volatile\n",
              "2020-01-02  12198.55  12289.90  12195.25  ...      28314.55  28535.40  Non-Volatile\n",
              "2020-01-03  12261.10  12265.60  12191.35  ...      28385.60  28478.95  Non-Volatile\n",
              "2020-01-06  12170.60  12179.10  11974.20  ...      27831.35  27894.90  Non-Volatile\n",
              "2020-01-07  12079.10  12152.15  12005.35  ...      27971.75  28101.20  Non-Volatile\n",
              "...              ...       ...       ...  ...           ...       ...           ...\n",
              "2020-12-23  13473.50  13619.45  13432.20  ...      31342.45  31949.80  Non-Volatile\n",
              "2020-12-24  13672.15  13771.75  13626.90  ...      31931.75  32068.55  Non-Volatile\n",
              "2020-12-28  13815.15  13885.30  13811.55  ...      32230.75  32351.05  Non-Volatile\n",
              "2020-12-29  13910.35  13967.60  13859.90  ...      32153.85  32331.50  Non-Volatile\n",
              "2020-12-30  13980.90  13997.00  13864.95  ...      32166.50  32464.40  Non-Volatile\n",
              "\n",
              "[251 rows x 10 columns]"
            ]
          },
          "metadata": {
            "tags": []
          },
          "execution_count": 360
        }
      ]
    },
    {
      "cell_type": "code",
      "metadata": {
        "colab": {
          "base_uri": "https://localhost:8080/",
          "height": 325
        },
        "id": "UxG0Z2kqthBt",
        "outputId": "c142091a-e1b5-44fb-e3f9-c7a6d72619f9"
      },
      "source": [
        "nifty.describe()"
      ],
      "execution_count": 362,
      "outputs": [
        {
          "output_type": "execute_result",
          "data": {
            "text/html": [
              "<div>\n",
              "<style scoped>\n",
              "    .dataframe tbody tr th:only-of-type {\n",
              "        vertical-align: middle;\n",
              "    }\n",
              "\n",
              "    .dataframe tbody tr th {\n",
              "        vertical-align: top;\n",
              "    }\n",
              "\n",
              "    .dataframe thead tr th {\n",
              "        text-align: left;\n",
              "    }\n",
              "</style>\n",
              "<table border=\"1\" class=\"dataframe\">\n",
              "  <thead>\n",
              "    <tr>\n",
              "      <th></th>\n",
              "      <th colspan=\"4\" halign=\"left\">nifty_50</th>\n",
              "      <th colspan=\"4\" halign=\"left\">nifty_next_50</th>\n",
              "    </tr>\n",
              "    <tr>\n",
              "      <th></th>\n",
              "      <th>Open</th>\n",
              "      <th>High</th>\n",
              "      <th>Low</th>\n",
              "      <th>Close</th>\n",
              "      <th>Open</th>\n",
              "      <th>High</th>\n",
              "      <th>Low</th>\n",
              "      <th>Close</th>\n",
              "    </tr>\n",
              "  </thead>\n",
              "  <tbody>\n",
              "    <tr>\n",
              "      <th>count</th>\n",
              "      <td>251.000000</td>\n",
              "      <td>251.000000</td>\n",
              "      <td>251.000000</td>\n",
              "      <td>251.000000</td>\n",
              "      <td>251.000000</td>\n",
              "      <td>251.000000</td>\n",
              "      <td>251.000000</td>\n",
              "      <td>251.000000</td>\n",
              "    </tr>\n",
              "    <tr>\n",
              "      <th>mean</th>\n",
              "      <td>11164.474502</td>\n",
              "      <td>11243.541434</td>\n",
              "      <td>11054.680876</td>\n",
              "      <td>11150.238645</td>\n",
              "      <td>26737.036653</td>\n",
              "      <td>26935.865538</td>\n",
              "      <td>26482.819522</td>\n",
              "      <td>26702.107968</td>\n",
              "    </tr>\n",
              "    <tr>\n",
              "      <th>std</th>\n",
              "      <td>1400.878285</td>\n",
              "      <td>1361.138014</td>\n",
              "      <td>1430.740072</td>\n",
              "      <td>1402.612608</td>\n",
              "      <td>2817.639739</td>\n",
              "      <td>2722.175699</td>\n",
              "      <td>2862.304934</td>\n",
              "      <td>2804.449229</td>\n",
              "    </tr>\n",
              "    <tr>\n",
              "      <th>min</th>\n",
              "      <td>7735.150000</td>\n",
              "      <td>8036.950000</td>\n",
              "      <td>7511.100000</td>\n",
              "      <td>7610.250000</td>\n",
              "      <td>18504.400000</td>\n",
              "      <td>19379.100000</td>\n",
              "      <td>18384.050000</td>\n",
              "      <td>18524.650000</td>\n",
              "    </tr>\n",
              "    <tr>\n",
              "      <th>25%</th>\n",
              "      <td>10113.650000</td>\n",
              "      <td>10225.100000</td>\n",
              "      <td>10038.800000</td>\n",
              "      <td>10129.150000</td>\n",
              "      <td>25130.800000</td>\n",
              "      <td>25378.075000</td>\n",
              "      <td>24955.350000</td>\n",
              "      <td>25146.600000</td>\n",
              "    </tr>\n",
              "    <tr>\n",
              "      <th>50%</th>\n",
              "      <td>11363.300000</td>\n",
              "      <td>11418.500000</td>\n",
              "      <td>11289.800000</td>\n",
              "      <td>11322.500000</td>\n",
              "      <td>27206.550000</td>\n",
              "      <td>27412.250000</td>\n",
              "      <td>26953.950000</td>\n",
              "      <td>27142.900000</td>\n",
              "    </tr>\n",
              "    <tr>\n",
              "      <th>75%</th>\n",
              "      <td>12116.950000</td>\n",
              "      <td>12153.425000</td>\n",
              "      <td>12032.300000</td>\n",
              "      <td>12085.000000</td>\n",
              "      <td>28437.950000</td>\n",
              "      <td>28592.575000</td>\n",
              "      <td>28278.525000</td>\n",
              "      <td>28481.625000</td>\n",
              "    </tr>\n",
              "    <tr>\n",
              "      <th>max</th>\n",
              "      <td>13980.900000</td>\n",
              "      <td>13997.000000</td>\n",
              "      <td>13864.950000</td>\n",
              "      <td>13981.950000</td>\n",
              "      <td>32507.000000</td>\n",
              "      <td>32541.900000</td>\n",
              "      <td>32230.750000</td>\n",
              "      <td>32464.400000</td>\n",
              "    </tr>\n",
              "  </tbody>\n",
              "</table>\n",
              "</div>"
            ],
            "text/plain": [
              "           nifty_50                ... nifty_next_50              \n",
              "               Open          High  ...           Low         Close\n",
              "count    251.000000    251.000000  ...    251.000000    251.000000\n",
              "mean   11164.474502  11243.541434  ...  26482.819522  26702.107968\n",
              "std     1400.878285   1361.138014  ...   2862.304934   2804.449229\n",
              "min     7735.150000   8036.950000  ...  18384.050000  18524.650000\n",
              "25%    10113.650000  10225.100000  ...  24955.350000  25146.600000\n",
              "50%    11363.300000  11418.500000  ...  26953.950000  27142.900000\n",
              "75%    12116.950000  12153.425000  ...  28278.525000  28481.625000\n",
              "max    13980.900000  13997.000000  ...  32230.750000  32464.400000\n",
              "\n",
              "[8 rows x 8 columns]"
            ]
          },
          "metadata": {
            "tags": []
          },
          "execution_count": 362
        }
      ]
    },
    {
      "cell_type": "code",
      "metadata": {
        "colab": {
          "base_uri": "https://localhost:8080/"
        },
        "id": "MKg7dHK5t4YT",
        "outputId": "71ab4071-b6fc-40fe-95f3-020f321ac4d3"
      },
      "source": [
        "print(nifty['nifty_50'].groupby('volatility')['volatility'].count(), nifty['nifty_next_50'].groupby('volatility')['volatility'].count())"
      ],
      "execution_count": 364,
      "outputs": [
        {
          "output_type": "stream",
          "text": [
            "volatility\n",
            "Non-Volatile    238\n",
            "Volatile         13\n",
            "Name: volatility, dtype: int64 volatility\n",
            "Non-Volatile    236\n",
            "Volatile         15\n",
            "Name: volatility, dtype: int64\n"
          ],
          "name": "stdout"
        }
      ]
    },
    {
      "cell_type": "markdown",
      "metadata": {
        "id": "zhJ-610S5bnY"
      },
      "source": [
        "# **Task 4**\n",
        "*Compute the mean, median, std, var of closing values for each weekday in NIFTY50 for 2020*"
      ]
    },
    {
      "cell_type": "code",
      "metadata": {
        "id": "aD68NG3klX99"
      },
      "source": [
        "nifty_50.index = pd.to_datetime(nifty_50.index)"
      ],
      "execution_count": 342,
      "outputs": []
    },
    {
      "cell_type": "code",
      "metadata": {
        "id": "EdEBXWujpARc"
      },
      "source": [
        "dow = nifty_50.copy()"
      ],
      "execution_count": 343,
      "outputs": []
    },
    {
      "cell_type": "code",
      "metadata": {
        "id": "5z83BpdrvjqS"
      },
      "source": [
        "dow['dayofweek'] = dow.index.dayofweek"
      ],
      "execution_count": 344,
      "outputs": []
    },
    {
      "cell_type": "code",
      "metadata": {
        "colab": {
          "base_uri": "https://localhost:8080/",
          "height": 446
        },
        "id": "sbaJvSgMvk97",
        "outputId": "5e2e640d-28d9-4256-d310-405c18f23208"
      },
      "source": [
        "dow"
      ],
      "execution_count": 345,
      "outputs": [
        {
          "output_type": "execute_result",
          "data": {
            "text/html": [
              "<div>\n",
              "<style scoped>\n",
              "    .dataframe tbody tr th:only-of-type {\n",
              "        vertical-align: middle;\n",
              "    }\n",
              "\n",
              "    .dataframe tbody tr th {\n",
              "        vertical-align: top;\n",
              "    }\n",
              "\n",
              "    .dataframe thead th {\n",
              "        text-align: right;\n",
              "    }\n",
              "</style>\n",
              "<table border=\"1\" class=\"dataframe\">\n",
              "  <thead>\n",
              "    <tr style=\"text-align: right;\">\n",
              "      <th></th>\n",
              "      <th>Open</th>\n",
              "      <th>High</th>\n",
              "      <th>Low</th>\n",
              "      <th>Close</th>\n",
              "      <th>volatility</th>\n",
              "      <th>dayofweek</th>\n",
              "    </tr>\n",
              "    <tr>\n",
              "      <th>Date</th>\n",
              "      <th></th>\n",
              "      <th></th>\n",
              "      <th></th>\n",
              "      <th></th>\n",
              "      <th></th>\n",
              "      <th></th>\n",
              "    </tr>\n",
              "  </thead>\n",
              "  <tbody>\n",
              "    <tr>\n",
              "      <th>2020-01-01</th>\n",
              "      <td>12202.15</td>\n",
              "      <td>12222.20</td>\n",
              "      <td>12165.30</td>\n",
              "      <td>12182.50</td>\n",
              "      <td>Non-Volatile</td>\n",
              "      <td>2</td>\n",
              "    </tr>\n",
              "    <tr>\n",
              "      <th>2020-01-02</th>\n",
              "      <td>12198.55</td>\n",
              "      <td>12289.90</td>\n",
              "      <td>12195.25</td>\n",
              "      <td>12282.20</td>\n",
              "      <td>Non-Volatile</td>\n",
              "      <td>3</td>\n",
              "    </tr>\n",
              "    <tr>\n",
              "      <th>2020-01-03</th>\n",
              "      <td>12261.10</td>\n",
              "      <td>12265.60</td>\n",
              "      <td>12191.35</td>\n",
              "      <td>12226.65</td>\n",
              "      <td>Non-Volatile</td>\n",
              "      <td>4</td>\n",
              "    </tr>\n",
              "    <tr>\n",
              "      <th>2020-01-06</th>\n",
              "      <td>12170.60</td>\n",
              "      <td>12179.10</td>\n",
              "      <td>11974.20</td>\n",
              "      <td>11993.05</td>\n",
              "      <td>Non-Volatile</td>\n",
              "      <td>0</td>\n",
              "    </tr>\n",
              "    <tr>\n",
              "      <th>2020-01-07</th>\n",
              "      <td>12079.10</td>\n",
              "      <td>12152.15</td>\n",
              "      <td>12005.35</td>\n",
              "      <td>12052.95</td>\n",
              "      <td>Non-Volatile</td>\n",
              "      <td>1</td>\n",
              "    </tr>\n",
              "    <tr>\n",
              "      <th>...</th>\n",
              "      <td>...</td>\n",
              "      <td>...</td>\n",
              "      <td>...</td>\n",
              "      <td>...</td>\n",
              "      <td>...</td>\n",
              "      <td>...</td>\n",
              "    </tr>\n",
              "    <tr>\n",
              "      <th>2020-12-23</th>\n",
              "      <td>13473.50</td>\n",
              "      <td>13619.45</td>\n",
              "      <td>13432.20</td>\n",
              "      <td>13601.10</td>\n",
              "      <td>Non-Volatile</td>\n",
              "      <td>2</td>\n",
              "    </tr>\n",
              "    <tr>\n",
              "      <th>2020-12-24</th>\n",
              "      <td>13672.15</td>\n",
              "      <td>13771.75</td>\n",
              "      <td>13626.90</td>\n",
              "      <td>13749.25</td>\n",
              "      <td>Non-Volatile</td>\n",
              "      <td>3</td>\n",
              "    </tr>\n",
              "    <tr>\n",
              "      <th>2020-12-28</th>\n",
              "      <td>13815.15</td>\n",
              "      <td>13885.30</td>\n",
              "      <td>13811.55</td>\n",
              "      <td>13873.20</td>\n",
              "      <td>Non-Volatile</td>\n",
              "      <td>0</td>\n",
              "    </tr>\n",
              "    <tr>\n",
              "      <th>2020-12-29</th>\n",
              "      <td>13910.35</td>\n",
              "      <td>13967.60</td>\n",
              "      <td>13859.90</td>\n",
              "      <td>13932.60</td>\n",
              "      <td>Non-Volatile</td>\n",
              "      <td>1</td>\n",
              "    </tr>\n",
              "    <tr>\n",
              "      <th>2020-12-30</th>\n",
              "      <td>13980.90</td>\n",
              "      <td>13997.00</td>\n",
              "      <td>13864.95</td>\n",
              "      <td>13981.95</td>\n",
              "      <td>Non-Volatile</td>\n",
              "      <td>2</td>\n",
              "    </tr>\n",
              "  </tbody>\n",
              "</table>\n",
              "<p>251 rows × 6 columns</p>\n",
              "</div>"
            ],
            "text/plain": [
              "                Open      High       Low     Close    volatility  dayofweek\n",
              "Date                                                                       \n",
              "2020-01-01  12202.15  12222.20  12165.30  12182.50  Non-Volatile          2\n",
              "2020-01-02  12198.55  12289.90  12195.25  12282.20  Non-Volatile          3\n",
              "2020-01-03  12261.10  12265.60  12191.35  12226.65  Non-Volatile          4\n",
              "2020-01-06  12170.60  12179.10  11974.20  11993.05  Non-Volatile          0\n",
              "2020-01-07  12079.10  12152.15  12005.35  12052.95  Non-Volatile          1\n",
              "...              ...       ...       ...       ...           ...        ...\n",
              "2020-12-23  13473.50  13619.45  13432.20  13601.10  Non-Volatile          2\n",
              "2020-12-24  13672.15  13771.75  13626.90  13749.25  Non-Volatile          3\n",
              "2020-12-28  13815.15  13885.30  13811.55  13873.20  Non-Volatile          0\n",
              "2020-12-29  13910.35  13967.60  13859.90  13932.60  Non-Volatile          1\n",
              "2020-12-30  13980.90  13997.00  13864.95  13981.95  Non-Volatile          2\n",
              "\n",
              "[251 rows x 6 columns]"
            ]
          },
          "metadata": {
            "tags": []
          },
          "execution_count": 345
        }
      ]
    },
    {
      "cell_type": "code",
      "metadata": {
        "colab": {
          "base_uri": "https://localhost:8080/"
        },
        "id": "WjkUZiQDv1ST",
        "outputId": "5c12cca6-df43-4a88-ef0f-aa65c8ea1c98"
      },
      "source": [
        "#Statistical value of all Monday for 2020\n",
        "\n",
        "nifty_50[dow.dayofweek == 0]['Close'].describe()"
      ],
      "execution_count": 346,
      "outputs": [
        {
          "output_type": "execute_result",
          "data": {
            "text/plain": [
              "count       48.000000\n",
              "mean     11078.794792\n",
              "std       1397.367088\n",
              "min       7610.250000\n",
              "25%      10275.262500\n",
              "50%      11260.350000\n",
              "75%      11946.475000\n",
              "max      13873.200000\n",
              "Name: Close, dtype: float64"
            ]
          },
          "metadata": {
            "tags": []
          },
          "execution_count": 346
        }
      ]
    },
    {
      "cell_type": "code",
      "metadata": {
        "colab": {
          "base_uri": "https://localhost:8080/"
        },
        "id": "lqefrLzAwaf2",
        "outputId": "e3bea29f-ec3a-4e59-d41f-e1b5fe83cb9c"
      },
      "source": [
        "#Statistical value of all Tuesday for 2020\n",
        "\n",
        "nifty_50[dow.dayofweek == 1]['Close'].describe()"
      ],
      "execution_count": 347,
      "outputs": [
        {
          "output_type": "execute_result",
          "data": {
            "text/plain": [
              "count       50.000000\n",
              "mean     11168.442000\n",
              "std       1465.728013\n",
              "min       7801.050000\n",
              "25%      10110.512500\n",
              "50%      11353.925000\n",
              "75%      12037.837500\n",
              "max      13932.600000\n",
              "Name: Close, dtype: float64"
            ]
          },
          "metadata": {
            "tags": []
          },
          "execution_count": 347
        }
      ]
    },
    {
      "cell_type": "code",
      "metadata": {
        "colab": {
          "base_uri": "https://localhost:8080/"
        },
        "id": "X0u_gmbfxOyu",
        "outputId": "8c008f3b-5d20-4bfe-b6c4-cde803b8e218"
      },
      "source": [
        "#Statistical value of all Wednesday for 2020\n",
        "\n",
        "nifty_50[dow.dayofweek == 2]['Close'].describe()"
      ],
      "execution_count": 348,
      "outputs": [
        {
          "output_type": "execute_result",
          "data": {
            "text/plain": [
              "count       53.000000\n",
              "mean     11159.272642\n",
              "std       1463.050742\n",
              "min       8253.800000\n",
              "25%      10116.150000\n",
              "50%      11308.400000\n",
              "75%      12106.900000\n",
              "max      13981.950000\n",
              "Name: Close, dtype: float64"
            ]
          },
          "metadata": {
            "tags": []
          },
          "execution_count": 348
        }
      ]
    },
    {
      "cell_type": "code",
      "metadata": {
        "colab": {
          "base_uri": "https://localhost:8080/"
        },
        "id": "n4HOp_GSxQ-M",
        "outputId": "1b020fe6-9b26-4917-9e7e-cf17bff5249d"
      },
      "source": [
        "#Statistical value of all Thursday for 2020\n",
        "\n",
        "nifty_50[dow.dayofweek == 3]['Close'].describe()"
      ],
      "execution_count": 349,
      "outputs": [
        {
          "output_type": "execute_result",
          "data": {
            "text/plain": [
              "count       51.000000\n",
              "mean     11169.667647\n",
              "std       1373.505995\n",
              "min       8263.450000\n",
              "25%      10060.375000\n",
              "50%      11416.950000\n",
              "75%      12129.125000\n",
              "max      13749.250000\n",
              "Name: Close, dtype: float64"
            ]
          },
          "metadata": {
            "tags": []
          },
          "execution_count": 349
        }
      ]
    },
    {
      "cell_type": "code",
      "metadata": {
        "colab": {
          "base_uri": "https://localhost:8080/"
        },
        "id": "vSI9Dc11xSF5",
        "outputId": "29df0130-061e-4679-facc-33b40d2a2847"
      },
      "source": [
        "#Statistical value of all Friday for 2020\n",
        "\n",
        "nifty_50[dow.dayofweek == 4]['Close'].describe()"
      ],
      "execution_count": 350,
      "outputs": [
        {
          "output_type": "execute_result",
          "data": {
            "text/plain": [
              "count       47.000000\n",
              "mean     11127.001064\n",
              "std       1366.724669\n",
              "min       8083.800000\n",
              "25%      10193.275000\n",
              "50%      11214.050000\n",
              "75%      12105.900000\n",
              "max      13760.550000\n",
              "Name: Close, dtype: float64"
            ]
          },
          "metadata": {
            "tags": []
          },
          "execution_count": 350
        }
      ]
    },
    {
      "cell_type": "markdown",
      "metadata": {
        "id": "RAG-EWs0x79k"
      },
      "source": [
        "# **Task 5**\n",
        "*Compute the mean, median, std, var of closing values for the first three month's seperately in NIFTY50 for 2020*\n"
      ]
    },
    {
      "cell_type": "code",
      "metadata": {
        "id": "a62t7mXVy7if"
      },
      "source": [
        "dow['month'] = dow.index.month"
      ],
      "execution_count": 351,
      "outputs": []
    },
    {
      "cell_type": "code",
      "metadata": {
        "colab": {
          "base_uri": "https://localhost:8080/",
          "height": 446
        },
        "id": "fRY_T9gKzDtx",
        "outputId": "2726c752-2fd8-4c51-ca7c-67b4e8166673"
      },
      "source": [
        "dow"
      ],
      "execution_count": 353,
      "outputs": [
        {
          "output_type": "execute_result",
          "data": {
            "text/html": [
              "<div>\n",
              "<style scoped>\n",
              "    .dataframe tbody tr th:only-of-type {\n",
              "        vertical-align: middle;\n",
              "    }\n",
              "\n",
              "    .dataframe tbody tr th {\n",
              "        vertical-align: top;\n",
              "    }\n",
              "\n",
              "    .dataframe thead th {\n",
              "        text-align: right;\n",
              "    }\n",
              "</style>\n",
              "<table border=\"1\" class=\"dataframe\">\n",
              "  <thead>\n",
              "    <tr style=\"text-align: right;\">\n",
              "      <th></th>\n",
              "      <th>Open</th>\n",
              "      <th>High</th>\n",
              "      <th>Low</th>\n",
              "      <th>Close</th>\n",
              "      <th>volatility</th>\n",
              "      <th>dayofweek</th>\n",
              "      <th>month</th>\n",
              "    </tr>\n",
              "    <tr>\n",
              "      <th>Date</th>\n",
              "      <th></th>\n",
              "      <th></th>\n",
              "      <th></th>\n",
              "      <th></th>\n",
              "      <th></th>\n",
              "      <th></th>\n",
              "      <th></th>\n",
              "    </tr>\n",
              "  </thead>\n",
              "  <tbody>\n",
              "    <tr>\n",
              "      <th>2020-01-01</th>\n",
              "      <td>12202.15</td>\n",
              "      <td>12222.20</td>\n",
              "      <td>12165.30</td>\n",
              "      <td>12182.50</td>\n",
              "      <td>Non-Volatile</td>\n",
              "      <td>2</td>\n",
              "      <td>1</td>\n",
              "    </tr>\n",
              "    <tr>\n",
              "      <th>2020-01-02</th>\n",
              "      <td>12198.55</td>\n",
              "      <td>12289.90</td>\n",
              "      <td>12195.25</td>\n",
              "      <td>12282.20</td>\n",
              "      <td>Non-Volatile</td>\n",
              "      <td>3</td>\n",
              "      <td>1</td>\n",
              "    </tr>\n",
              "    <tr>\n",
              "      <th>2020-01-03</th>\n",
              "      <td>12261.10</td>\n",
              "      <td>12265.60</td>\n",
              "      <td>12191.35</td>\n",
              "      <td>12226.65</td>\n",
              "      <td>Non-Volatile</td>\n",
              "      <td>4</td>\n",
              "      <td>1</td>\n",
              "    </tr>\n",
              "    <tr>\n",
              "      <th>2020-01-06</th>\n",
              "      <td>12170.60</td>\n",
              "      <td>12179.10</td>\n",
              "      <td>11974.20</td>\n",
              "      <td>11993.05</td>\n",
              "      <td>Non-Volatile</td>\n",
              "      <td>0</td>\n",
              "      <td>1</td>\n",
              "    </tr>\n",
              "    <tr>\n",
              "      <th>2020-01-07</th>\n",
              "      <td>12079.10</td>\n",
              "      <td>12152.15</td>\n",
              "      <td>12005.35</td>\n",
              "      <td>12052.95</td>\n",
              "      <td>Non-Volatile</td>\n",
              "      <td>1</td>\n",
              "      <td>1</td>\n",
              "    </tr>\n",
              "    <tr>\n",
              "      <th>...</th>\n",
              "      <td>...</td>\n",
              "      <td>...</td>\n",
              "      <td>...</td>\n",
              "      <td>...</td>\n",
              "      <td>...</td>\n",
              "      <td>...</td>\n",
              "      <td>...</td>\n",
              "    </tr>\n",
              "    <tr>\n",
              "      <th>2020-12-23</th>\n",
              "      <td>13473.50</td>\n",
              "      <td>13619.45</td>\n",
              "      <td>13432.20</td>\n",
              "      <td>13601.10</td>\n",
              "      <td>Non-Volatile</td>\n",
              "      <td>2</td>\n",
              "      <td>12</td>\n",
              "    </tr>\n",
              "    <tr>\n",
              "      <th>2020-12-24</th>\n",
              "      <td>13672.15</td>\n",
              "      <td>13771.75</td>\n",
              "      <td>13626.90</td>\n",
              "      <td>13749.25</td>\n",
              "      <td>Non-Volatile</td>\n",
              "      <td>3</td>\n",
              "      <td>12</td>\n",
              "    </tr>\n",
              "    <tr>\n",
              "      <th>2020-12-28</th>\n",
              "      <td>13815.15</td>\n",
              "      <td>13885.30</td>\n",
              "      <td>13811.55</td>\n",
              "      <td>13873.20</td>\n",
              "      <td>Non-Volatile</td>\n",
              "      <td>0</td>\n",
              "      <td>12</td>\n",
              "    </tr>\n",
              "    <tr>\n",
              "      <th>2020-12-29</th>\n",
              "      <td>13910.35</td>\n",
              "      <td>13967.60</td>\n",
              "      <td>13859.90</td>\n",
              "      <td>13932.60</td>\n",
              "      <td>Non-Volatile</td>\n",
              "      <td>1</td>\n",
              "      <td>12</td>\n",
              "    </tr>\n",
              "    <tr>\n",
              "      <th>2020-12-30</th>\n",
              "      <td>13980.90</td>\n",
              "      <td>13997.00</td>\n",
              "      <td>13864.95</td>\n",
              "      <td>13981.95</td>\n",
              "      <td>Non-Volatile</td>\n",
              "      <td>2</td>\n",
              "      <td>12</td>\n",
              "    </tr>\n",
              "  </tbody>\n",
              "</table>\n",
              "<p>251 rows × 7 columns</p>\n",
              "</div>"
            ],
            "text/plain": [
              "                Open      High       Low  ...    volatility dayofweek  month\n",
              "Date                                      ...                               \n",
              "2020-01-01  12202.15  12222.20  12165.30  ...  Non-Volatile         2      1\n",
              "2020-01-02  12198.55  12289.90  12195.25  ...  Non-Volatile         3      1\n",
              "2020-01-03  12261.10  12265.60  12191.35  ...  Non-Volatile         4      1\n",
              "2020-01-06  12170.60  12179.10  11974.20  ...  Non-Volatile         0      1\n",
              "2020-01-07  12079.10  12152.15  12005.35  ...  Non-Volatile         1      1\n",
              "...              ...       ...       ...  ...           ...       ...    ...\n",
              "2020-12-23  13473.50  13619.45  13432.20  ...  Non-Volatile         2     12\n",
              "2020-12-24  13672.15  13771.75  13626.90  ...  Non-Volatile         3     12\n",
              "2020-12-28  13815.15  13885.30  13811.55  ...  Non-Volatile         0     12\n",
              "2020-12-29  13910.35  13967.60  13859.90  ...  Non-Volatile         1     12\n",
              "2020-12-30  13980.90  13997.00  13864.95  ...  Non-Volatile         2     12\n",
              "\n",
              "[251 rows x 7 columns]"
            ]
          },
          "metadata": {
            "tags": []
          },
          "execution_count": 353
        }
      ]
    },
    {
      "cell_type": "code",
      "metadata": {
        "colab": {
          "base_uri": "https://localhost:8080/"
        },
        "id": "Q67C0fEzzGrr",
        "outputId": "ef09a039-1c8e-4003-accc-17734b6d068b"
      },
      "source": [
        "#statistical values of month JANUARY for 2020\n",
        "nifty_50[dow.month == 1]['Close'].describe()"
      ],
      "execution_count": 354,
      "outputs": [
        {
          "output_type": "execute_result",
          "data": {
            "text/plain": [
              "count       23.000000\n",
              "mean     12183.065217\n",
              "std        124.213436\n",
              "min      11962.100000\n",
              "25%      12081.350000\n",
              "50%      12182.500000\n",
              "75%      12269.500000\n",
              "max      12362.300000\n",
              "Name: Close, dtype: float64"
            ]
          },
          "metadata": {
            "tags": []
          },
          "execution_count": 354
        }
      ]
    },
    {
      "cell_type": "code",
      "metadata": {
        "colab": {
          "base_uri": "https://localhost:8080/"
        },
        "id": "nEk4EvtVzkK_",
        "outputId": "dfebf357-d29d-40a2-e757-7878f973f493"
      },
      "source": [
        "#statistical values of month FEBRUARY for 2020\n",
        "nifty_50[dow.month == 2]['Close'].describe()"
      ],
      "execution_count": 355,
      "outputs": [
        {
          "output_type": "execute_result",
          "data": {
            "text/plain": [
              "count       20.00000\n",
              "mean     11934.47250\n",
              "std        253.07265\n",
              "min      11201.75000\n",
              "25%      11775.40000\n",
              "50%      12038.65000\n",
              "75%      12109.28750\n",
              "max      12201.20000\n",
              "Name: Close, dtype: float64"
            ]
          },
          "metadata": {
            "tags": []
          },
          "execution_count": 355
        }
      ]
    },
    {
      "cell_type": "code",
      "metadata": {
        "colab": {
          "base_uri": "https://localhost:8080/"
        },
        "id": "7rTQqCyIz3Q_",
        "outputId": "43b22b94-2ee4-4712-c057-0029ce0a88e4"
      },
      "source": [
        "#statistical values of month MARCH for 2020\n",
        "nifty_50[dow.month == 3]['Close'].describe()"
      ],
      "execution_count": 356,
      "outputs": [
        {
          "output_type": "execute_result",
          "data": {
            "text/plain": [
              "count       21.000000\n",
              "mean      9426.311905\n",
              "std       1252.820469\n",
              "min       7610.250000\n",
              "25%       8468.800000\n",
              "50%       8967.050000\n",
              "75%      10458.400000\n",
              "max      11303.300000\n",
              "Name: Close, dtype: float64"
            ]
          },
          "metadata": {
            "tags": []
          },
          "execution_count": 356
        }
      ]
    },
    {
      "cell_type": "markdown",
      "metadata": {
        "id": "YsDFMX_G0smi"
      },
      "source": [
        "#**Task 6**\n",
        "*On the days in which NIFTY50 closed higher than the open, what was the mean of (close - open) for NIFTYNext50*"
      ]
    },
    {
      "cell_type": "code",
      "metadata": {
        "id": "DleTug2e1D03"
      },
      "source": [
        "higher_closing = nifty['nifty_next_50'][nifty_50.Close > nifty_50.Open]"
      ],
      "execution_count": 367,
      "outputs": []
    },
    {
      "cell_type": "code",
      "metadata": {
        "colab": {
          "base_uri": "https://localhost:8080/",
          "height": 446
        },
        "id": "cMTcjhnJ3P3p",
        "outputId": "ff91210e-6bf0-4466-e280-1089c19a491c"
      },
      "source": [
        "higher_closing"
      ],
      "execution_count": 370,
      "outputs": [
        {
          "output_type": "execute_result",
          "data": {
            "text/html": [
              "<div>\n",
              "<style scoped>\n",
              "    .dataframe tbody tr th:only-of-type {\n",
              "        vertical-align: middle;\n",
              "    }\n",
              "\n",
              "    .dataframe tbody tr th {\n",
              "        vertical-align: top;\n",
              "    }\n",
              "\n",
              "    .dataframe thead th {\n",
              "        text-align: right;\n",
              "    }\n",
              "</style>\n",
              "<table border=\"1\" class=\"dataframe\">\n",
              "  <thead>\n",
              "    <tr style=\"text-align: right;\">\n",
              "      <th></th>\n",
              "      <th>Open</th>\n",
              "      <th>High</th>\n",
              "      <th>Low</th>\n",
              "      <th>Close</th>\n",
              "      <th>volatility</th>\n",
              "    </tr>\n",
              "    <tr>\n",
              "      <th>Date</th>\n",
              "      <th></th>\n",
              "      <th></th>\n",
              "      <th></th>\n",
              "      <th></th>\n",
              "      <th></th>\n",
              "    </tr>\n",
              "  </thead>\n",
              "  <tbody>\n",
              "    <tr>\n",
              "      <th>2020-01-02</th>\n",
              "      <td>28325.45</td>\n",
              "      <td>28552.80</td>\n",
              "      <td>28314.55</td>\n",
              "      <td>28535.40</td>\n",
              "      <td>Non-Volatile</td>\n",
              "    </tr>\n",
              "    <tr>\n",
              "      <th>2020-01-08</th>\n",
              "      <td>27739.05</td>\n",
              "      <td>28145.40</td>\n",
              "      <td>27738.40</td>\n",
              "      <td>28113.55</td>\n",
              "      <td>Non-Volatile</td>\n",
              "    </tr>\n",
              "    <tr>\n",
              "      <th>2020-01-09</th>\n",
              "      <td>28397.10</td>\n",
              "      <td>28517.05</td>\n",
              "      <td>28349.35</td>\n",
              "      <td>28484.30</td>\n",
              "      <td>Non-Volatile</td>\n",
              "    </tr>\n",
              "    <tr>\n",
              "      <th>2020-01-13</th>\n",
              "      <td>28669.35</td>\n",
              "      <td>28807.45</td>\n",
              "      <td>28631.25</td>\n",
              "      <td>28783.55</td>\n",
              "      <td>Non-Volatile</td>\n",
              "    </tr>\n",
              "    <tr>\n",
              "      <th>2020-01-14</th>\n",
              "      <td>28836.50</td>\n",
              "      <td>28917.00</td>\n",
              "      <td>28770.00</td>\n",
              "      <td>28845.25</td>\n",
              "      <td>Non-Volatile</td>\n",
              "    </tr>\n",
              "    <tr>\n",
              "      <th>...</th>\n",
              "      <td>...</td>\n",
              "      <td>...</td>\n",
              "      <td>...</td>\n",
              "      <td>...</td>\n",
              "      <td>...</td>\n",
              "    </tr>\n",
              "    <tr>\n",
              "      <th>2020-12-23</th>\n",
              "      <td>31489.55</td>\n",
              "      <td>31994.95</td>\n",
              "      <td>31342.45</td>\n",
              "      <td>31949.80</td>\n",
              "      <td>Non-Volatile</td>\n",
              "    </tr>\n",
              "    <tr>\n",
              "      <th>2020-12-24</th>\n",
              "      <td>32220.50</td>\n",
              "      <td>32322.55</td>\n",
              "      <td>31931.75</td>\n",
              "      <td>32068.55</td>\n",
              "      <td>Non-Volatile</td>\n",
              "    </tr>\n",
              "    <tr>\n",
              "      <th>2020-12-28</th>\n",
              "      <td>32261.90</td>\n",
              "      <td>32408.50</td>\n",
              "      <td>32230.75</td>\n",
              "      <td>32351.05</td>\n",
              "      <td>Non-Volatile</td>\n",
              "    </tr>\n",
              "    <tr>\n",
              "      <th>2020-12-29</th>\n",
              "      <td>32507.00</td>\n",
              "      <td>32541.90</td>\n",
              "      <td>32153.85</td>\n",
              "      <td>32331.50</td>\n",
              "      <td>Non-Volatile</td>\n",
              "    </tr>\n",
              "    <tr>\n",
              "      <th>2020-12-30</th>\n",
              "      <td>32446.10</td>\n",
              "      <td>32508.55</td>\n",
              "      <td>32166.50</td>\n",
              "      <td>32464.40</td>\n",
              "      <td>Non-Volatile</td>\n",
              "    </tr>\n",
              "  </tbody>\n",
              "</table>\n",
              "<p>121 rows × 5 columns</p>\n",
              "</div>"
            ],
            "text/plain": [
              "                Open      High       Low     Close    volatility\n",
              "Date                                                            \n",
              "2020-01-02  28325.45  28552.80  28314.55  28535.40  Non-Volatile\n",
              "2020-01-08  27739.05  28145.40  27738.40  28113.55  Non-Volatile\n",
              "2020-01-09  28397.10  28517.05  28349.35  28484.30  Non-Volatile\n",
              "2020-01-13  28669.35  28807.45  28631.25  28783.55  Non-Volatile\n",
              "2020-01-14  28836.50  28917.00  28770.00  28845.25  Non-Volatile\n",
              "...              ...       ...       ...       ...           ...\n",
              "2020-12-23  31489.55  31994.95  31342.45  31949.80  Non-Volatile\n",
              "2020-12-24  32220.50  32322.55  31931.75  32068.55  Non-Volatile\n",
              "2020-12-28  32261.90  32408.50  32230.75  32351.05  Non-Volatile\n",
              "2020-12-29  32507.00  32541.90  32153.85  32331.50  Non-Volatile\n",
              "2020-12-30  32446.10  32508.55  32166.50  32464.40  Non-Volatile\n",
              "\n",
              "[121 rows x 5 columns]"
            ]
          },
          "metadata": {
            "tags": []
          },
          "execution_count": 370
        }
      ]
    },
    {
      "cell_type": "code",
      "metadata": {
        "colab": {
          "base_uri": "https://localhost:8080/"
        },
        "id": "at1Zh0Hb5GIU",
        "outputId": "97db340d-3219-42e9-b689-99b6aec37222"
      },
      "source": [
        "(higher_closing.Close - higher_closing.Open).mean()"
      ],
      "execution_count": 375,
      "outputs": [
        {
          "output_type": "execute_result",
          "data": {
            "text/plain": [
              "157.1752066115701"
            ]
          },
          "metadata": {
            "tags": []
          },
          "execution_count": 375
        }
      ]
    },
    {
      "cell_type": "markdown",
      "metadata": {
        "id": "PeuvVq_Y6PxY"
      },
      "source": [
        "# **Task 7**\n",
        "*In 2020, how many days had the day's high lower than the previous day's low in NIFTY50*"
      ]
    },
    {
      "cell_type": "code",
      "metadata": {
        "colab": {
          "base_uri": "https://localhost:8080/"
        },
        "id": "vyxW8jnt6VVE",
        "outputId": "8fa34939-d72b-49bc-fad0-2d45df14b153"
      },
      "source": [
        "np.count_nonzero(nifty_50.High.values[1:] < nifty_50.Low.values[:-1])"
      ],
      "execution_count": 404,
      "outputs": [
        {
          "output_type": "execute_result",
          "data": {
            "text/plain": [
              "15"
            ]
          },
          "metadata": {
            "tags": []
          },
          "execution_count": 404
        }
      ]
    }
  ]
}